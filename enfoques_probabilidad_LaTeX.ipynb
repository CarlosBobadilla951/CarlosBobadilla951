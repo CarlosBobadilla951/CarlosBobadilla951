{
 "cells": [
  {
   "cell_type": "markdown",
   "id": "697bae1a",
   "metadata": {},
   "source": [
    "\n",
    "# 📌 1. Probabilidad Clásica (Laplaciana)\n",
    "\n",
    "## 1.1 Axiomas de Kolmogórov\n",
    "\n",
    "Los axiomas de Kolmogórov establecen las bases matemáticas de la teoría de la probabilidad:\n",
    "\n",
    "1. **No negatividad**:  \n",
    "$$\n",
    "P(A) \\geq 0, \\forall A \\in \\mathcal{F}\n",
    "$$\n",
    "\n",
    "2. **Normalización**:  \n",
    "$$\n",
    "P(S) = 1\n",
    "$$\n",
    "\n",
    "3. **Aditividad finita** (para eventos mutuamente excluyentes):  \n",
    "Si \\(A_1, A_2, \\dots, A_n\\) son disjuntos dos a dos:\n",
    "$$\n",
    "P\\left(\\bigcup_{i=1}^n A_i\\right) = \\sum_{i=1}^n P(A_i)\n",
    "$$\n"
   ]
  },
  {
   "cell_type": "markdown",
   "id": "f10e2168",
   "metadata": {},
   "source": [
    "\n",
    "## 1.2 Teoremas Fundamentales\n",
    "\n",
    "- **Probabilidad del suceso imposible**\n",
    "$$\n",
    "P(\\emptyset) = 0\n",
    "$$\n",
    "\n",
    "- **Probabilidad del complemento**\n",
    "$$\n",
    "P(A^c) = 1 - P(A)\n",
    "$$\n",
    "\n",
    "- **Aditividad para dos eventos**\n",
    "$$\n",
    "P(A \\cup B) = P(A) + P(B) - P(A \\cap B)\n",
    "$$\n"
   ]
  },
  {
   "cell_type": "code",
   "execution_count": null,
   "id": "e28548a0",
   "metadata": {},
   "outputs": [],
   "source": [
    "\n",
    "# Espacio muestral: lanzar un dado\n",
    "S = {1, 2, 3, 4, 5, 6}\n",
    "\n",
    "# Definimos eventos\n",
    "A = {2, 4, 6}\n",
    "B = {1, 2, 3}\n",
    "\n",
    "P_A = len(A) / len(S)\n",
    "P_B = len(B) / len(S)\n",
    "P_A_union_B = len(A.union(B)) / len(S)\n",
    "P_A_inter_B = len(A.intersection(B)) / len(S)\n",
    "\n",
    "print(f\"P(A) = {P_A}\")\n",
    "print(f\"P(B) = {P_B}\")\n",
    "print(f\"P(A ∪ B) = {P_A_union_B}\")\n",
    "print(f\"P(A ∩ B) = {P_A_inter_B}\")\n",
    "print(f\"Comprobando fórmula de aditividad: {P_A + P_B - P_A_inter_B}\")\n"
   ]
  },
  {
   "cell_type": "markdown",
   "id": "442a6453",
   "metadata": {},
   "source": [
    "\n",
    "# 📌 2. Probabilidad Frecuentista\n",
    "\n",
    "## 2.1 Fundamento Teórico\n",
    "\n",
    "La probabilidad como límite de la frecuencia relativa de un suceso al repetir un experimento un gran número de veces.\n",
    "\n",
    "$$\n",
    "P(A) = \\lim_{n \\to \\infty} \\frac{N(A)}{n}\n",
    "$$\n"
   ]
  },
  {
   "cell_type": "markdown",
   "id": "e83cdcf0",
   "metadata": {},
   "source": [
    "\n",
    "## 2.2 Ley de los Grandes Números\n",
    "\n",
    "Cuando el número de repeticiones aumenta, la frecuencia relativa de un evento tiende a estabilizarse en torno a su probabilidad teórica.\n",
    "\n",
    "$$\n",
    "\\lim_{n \\to \\infty} \\frac{N(A)}{n} = P(A)\n",
    "$$\n"
   ]
  },
  {
   "cell_type": "code",
   "execution_count": null,
   "id": "b9238567",
   "metadata": {},
   "outputs": [],
   "source": [
    "\n",
    "import random\n",
    "\n",
    "def lanzar_dado(n):\n",
    "    resultados = [random.randint(1, 6) for _ in range(n)]\n",
    "    frecuencia = resultados.count(6)\n",
    "    return frecuencia / n\n",
    "\n",
    "for n in [10, 100, 1000, 10000]:\n",
    "    print(f\"Probabilidad estimada de sacar un 6 en {n} lanzamientos: {lanzar_dado(n)}\")\n"
   ]
  },
  {
   "cell_type": "markdown",
   "id": "61a65f7f",
   "metadata": {},
   "source": [
    "\n",
    "# 📌 3. Probabilidad Geométrica\n",
    "\n",
    "## 3.1 Fundamento Teórico\n",
    "\n",
    "Se basa en la comparación de longitudes, áreas o volúmenes favorables respecto al total.\n",
    "\n",
    "$$\n",
    "P(A) = \\frac{\\text{medida de la región favorable}}{\\text{medida del espacio muestral}}\n",
    "$$\n"
   ]
  },
  {
   "cell_type": "markdown",
   "id": "b78dcfea",
   "metadata": {},
   "source": [
    "\n",
    "## 3.2 Teorema Fundamental\n",
    "\n",
    "Si se lanza un punto al azar sobre una figura geométrica, la probabilidad de que caiga en una región \\(A\\) es proporcional a la medida de \\(A\\).\n",
    "\n",
    "$$\n",
    "P(A) = \\frac{\\text{longitud, área o volumen de } A}{\\text{longitud, área o volumen total}}\n",
    "$$\n"
   ]
  },
  {
   "cell_type": "code",
   "execution_count": null,
   "id": "2a5ea009",
   "metadata": {},
   "outputs": [],
   "source": [
    "\n",
    "import random\n",
    "\n",
    "def punto_en_intervalo(a, b, c, d, n):\n",
    "    exitos = 0\n",
    "    for _ in range(n):\n",
    "        x = random.uniform(a, b)\n",
    "        if c <= x <= d:\n",
    "            exitos += 1\n",
    "    return exitos / n\n",
    "\n",
    "print(punto_en_intervalo(0, 10, 4, 7, 10000))\n"
   ]
  },
  {
   "cell_type": "markdown",
   "id": "46a354d2",
   "metadata": {},
   "source": [
    "\n",
    "# 📌 4. Probabilidad Condicional e Independencia\n",
    "\n",
    "## 4.1 Probabilidad Condicional\n",
    "\n",
    "La probabilidad de que ocurra \\(A\\) dado que ocurrió \\(B\\):\n",
    "\n",
    "$$\n",
    "P(A|B) = \\frac{P(A \\cap B)}{P(B)}\n",
    "$$\n"
   ]
  },
  {
   "cell_type": "markdown",
   "id": "f96e9460",
   "metadata": {},
   "source": [
    "\n",
    "## 4.2 Independencia de Eventos\n",
    "\n",
    "Dos eventos \\(A\\) y \\(B\\) son independientes si:\n",
    "\n",
    "$$\n",
    "P(A \\cap B) = P(A) \\cdot P(B)\n",
    "$$\n"
   ]
  },
  {
   "cell_type": "code",
   "execution_count": null,
   "id": "b66d20cf",
   "metadata": {},
   "outputs": [],
   "source": [
    "\n",
    "S = {1, 2, 3, 4, 5, 6}\n",
    "A = {2, 4, 6}\n",
    "B = {1, 2, 3, 4}\n",
    "\n",
    "P_A = len(A) / len(S)\n",
    "P_B = len(B) / len(S)\n",
    "P_A_inter_B = len(A.intersection(B)) / len(S)\n",
    "P_A_dado_B = P_A_inter_B / P_B\n",
    "\n",
    "print(f\"P(A|B) = {P_A_dado_B}\")\n",
    "print(f\"P(A) * P(B) = {P_A * P_B}\")\n",
    "print(f\"Independencia: {P_A_inter_B == P_A * P_B}\")\n"
   ]
  },
  {
   "cell_type": "markdown",
   "id": "1f53a96a",
   "metadata": {},
   "source": [
    "\n",
    "# 📌 5. Teoremas de la Probabilidad Total y de Bayes\n",
    "\n",
    "## 5.1 Teorema de la Probabilidad Total\n",
    "\n",
    "Si \\(\\{B_1, B_2, ..., B_n\\}\\) es una partición del espacio muestral:\n",
    "\n",
    "$$\n",
    "P(A) = \\sum_{i=1}^n P(A|B_i) \\cdot P(B_i)\n",
    "$$\n"
   ]
  },
  {
   "cell_type": "markdown",
   "id": "49ac4c97",
   "metadata": {},
   "source": [
    "\n",
    "## 5.2 Teorema de Bayes\n",
    "\n",
    "Para eventos \\(A\\) y \\(B\\) con \\(P(B) > 0\\):\n",
    "\n",
    "$$\n",
    "P(B|A) = \\frac{P(A|B) \\cdot P(B)}{P(A)}\n",
    "$$\n"
   ]
  },
  {
   "cell_type": "code",
   "execution_count": null,
   "id": "ddcf0bdc",
   "metadata": {},
   "outputs": [],
   "source": [
    "\n",
    "# Partición del espacio: dos cajas con bolas rojas y negras\n",
    "P_C1 = 0.5\n",
    "P_C2 = 0.5\n",
    "\n",
    "P_R_C1 = 3/5\n",
    "P_R_C2 = 1/5\n",
    "\n",
    "P_R = P_R_C1 * P_C1 + P_R_C2 * P_C2\n",
    "\n",
    "P_C1_dado_R = (P_R_C1 * P_C1) / P_R\n",
    "\n",
    "print(f\"P(R) = {P_R}\")\n",
    "print(f\"P(C1|R) = {P_C1_dado_R}\")\n"
   ]
  }
 ],
 "metadata": {
  "kernelspec": {
   "display_name": "Python [conda env:base] *",
   "language": "python",
   "name": "conda-base-py"
  },
  "language_info": {
   "codemirror_mode": {
    "name": "ipython",
    "version": 3
   },
   "file_extension": ".py",
   "mimetype": "text/x-python",
   "name": "python",
   "nbconvert_exporter": "python",
   "pygments_lexer": "ipython3",
   "version": "3.12.7"
  }
 },
 "nbformat": 4,
 "nbformat_minor": 5
}

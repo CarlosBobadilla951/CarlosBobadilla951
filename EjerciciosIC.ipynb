{
 "cells": [
  {
   "cell_type": "markdown",
   "metadata": {
    "id": "lU2x5qpOHS_Y"
   },
   "source": [
    "# Tarea. Intervalos de confianza"
   ]
  },
  {
   "cell_type": "markdown",
   "metadata": {
    "id": "DBQyaEKLGnwg"
   },
   "source": [
    "\n",
    "**Ejercicio** En una encuesta de una Universidad, 225 estudiantes son seleccionados al azar de los que toman cálculo y se les pregunta si cálculo es su materia favorita. 100 estudiantes responden que el cálculo es su materia favorita. Proporcione un intervalo de confianza del 95 %  para la proporción de todos los estudiantes que toman cálculo y que la consideran su materia favorita.  \n",
    "\n",
    "**Ejercicio** Los datos $1.2,\\ 2.1,\\ 2.3,\\ 1.9,\\ 3.0,\\ 1.5,\\ 2.8,\\ 2.4,\\ 1.7,\\ 2.6,\\ 2.0,\\ 1.8,\\ 3.1,\\ 2.2,\\ 2.5$ se toman a partir de una distribución normal $N(\\mu,\\sigma^2)$ con $\\mu$ desconocida.\n",
    "\n",
    "**a)** Encuentra un intervalo de confianza al nivel de $90\\%$ para $\\mu$, dado que $\\sigma =2$.\n",
    "\n",
    "**b)** Encuentra un intervalo de confianza al nivel de $90\\%$ para $\\mu$.\n",
    "\n",
    "**c)** Encuentra un intervalo de confianza al nivel de $90\\%$ para $\\sigma^2$.\n",
    "     \n",
    "**Ejercicio** Los ingresos semanales promedio de las personas que trabajan en varias industrias aparecieron en el *The New York Times 1988 Almanac*.  \n",
    "Esos ingresos para quienes trabajan en los servicios fueron de $\\$369$. Suponga que este resultado se basó en una muestra de 250 personas dedicadas a los servicios y que la desviación estándar de la muestra fue de $\\$50$. Calcula el intervalo de confianza del 95% para la media de la población de ingresos semanales de personas que trabajan en los servicios.\n",
    "\n",
    "**Ejercicio** En un estudio de préstamos a estudiantes, el Departamento de Educación informó que los beneficiarios del fondo Stafford Loan deberían un promedio de \\$12,658 al recibirse (*USA Today*, 5 de abril de 1995). Suponga que este promedio de deuda se basa en una muestra de 480 préstamos a estudiantes y que la desviación estándar de la población de las deudas al recibirse es \\$2,000.\n",
    "\n",
    "**a)** Determina un estimado de confianza del **90%** del promedio poblacional de la deuda.\n",
    "\n",
    "**b)** Determina un estimado de confianza del **95%** del promedio poblacional de la deuda.\n",
    "\n",
    "**c)** Determina un estimado de confianza del **99%** del promedio poblacional de la deuda.\n",
    "\n",
    "**d)** Describe lo que sucede con el **ancho del intervalo de confianza** a medida que se **aumenta el nivel de confianza**. ¿Parece razonable? Explica tu respuesta.\n",
    "\n",
    "**Ejercicio** La encuesta anual de calidad de automóviles, efectuada por *J. D. Power & Associates*, determinó que la cantidad promedio de defectos, en todas las marcas, por cada vehículo nuevo es **1.07**  (*The Wall Street Journal*, 27 de enero de 1994). Suponga que se toma una muestra de **30 automóviles nuevos** de determinada marca y se obtienen las siguientes cantidades de defectos por vehículo:\n",
    "$$ 0, 1, 1, 2, 1, 0, 2, 3, 2, 1, 0, 2, 0, 0, 2, 3, 0, 4, 3, 1, 1, 1, 0, 2, 0, 2, 0, 3, 1, 0 $$\n",
    "\n",
    "**a)** ¿Cuál es el promedio muestral de la cantidad de defectos por vehículo?\n",
    "\n",
    "**b)** ¿Cuál es la desviación estándar de la muestra?\n",
    "\n",
    "**c)** Determine un intervalo de confianza del 95% para la **media de defectos** por vehículo de esta marca.\n",
    "\n",
    "**d)** Un analista sugirió que se debería **revisar una muestra mayor** antes de comparar con el promedio general de J.D. Power (1.07). ¿Respalda usted esta idea? ¿Por qué?\n",
    "\n",
    "**Ejercicio** Un artículo que apareció en el ejemplar de noviembre de 1983 de *Consumer Reports* comparó varios tipos de baterías.  \n",
    "Se informó que los siguientes datos provienen de una muestra de 20 baterías (en horas de duración):\n",
    "$$ [2200, 2290, 2390, 2410, 2480, 2500, 2580, 2700, 2030, 2100, 2190, 1600, 1740, 1900, 1930, 2000, 1510, 1470, 1770, 1710] $$\n",
    "Determine la media muestral, la desviación estándar muestral, y el intervalo de confianza del **90%** para la media poblacional.\n",
    "\n",
    "**Ejercicio** El toxafen es un insecticida que ha sido identificado como contaminante en el ecosistema de los Grandes Lagos.  \n",
    "Para investigar el efecto de la exposición al toxafen en animales, a grupos de ratas se les administró toxafen en su dieta.\n",
    "\n",
    "El artículo *\"Reproduction Study of Toxaphene in Rat\"* reporta **aumentos de peso (en gramos)** de ratas a las que se les administró una **dosis baja (4 ppm)** y de ratas de **control** cuya dieta no incluía el insecticida.\n",
    "\n",
    "- En el grupo **control**, una muestra de **23 ratas hembras** tuvo una media de **$\\bar{X_2} = 210$ g** y una desviación estándar de **32 g**.\n",
    "- En el grupo con **dosis baja**, una muestra de **20 ratas hembras** tuvo una media de **$\\bar{X_1} = 190$ g** y una desviación estándar de **54 g**.\n",
    "\n",
    "Encuentra un **intervalo de confianza del 90% para la diferencia de medias** poblacionales:  $\\mu_1 - \\mu_2$, donde:\n",
    "\n",
    "- $\\mu_1$ es la media poblacional de incremento de peso en el grupo con **dosis baja**.\n",
    "- $\\mu_2$ es la media poblacional de incremento de peso en el grupo **control**.\n",
    "\n",
    "¿Sugiere este intervalo que el toxafen **reduce** el incremento de peso en ratas?  \n",
    "¿Incluye el intervalo el valor 0? ¿Por qué es importante?\n"
   ]
  },
  {
   "cell_type": "code",
   "execution_count": null,
   "metadata": {},
   "outputs": [],
   "source": []
  }
 ],
 "metadata": {
  "colab": {
   "provenance": []
  },
  "kernelspec": {
   "display_name": "Python [conda env:base] *",
   "language": "python",
   "name": "conda-base-py"
  },
  "language_info": {
   "codemirror_mode": {
    "name": "ipython",
    "version": 3
   },
   "file_extension": ".py",
   "mimetype": "text/x-python",
   "name": "python",
   "nbconvert_exporter": "python",
   "pygments_lexer": "ipython3",
   "version": "3.12.7"
  }
 },
 "nbformat": 4,
 "nbformat_minor": 4
}

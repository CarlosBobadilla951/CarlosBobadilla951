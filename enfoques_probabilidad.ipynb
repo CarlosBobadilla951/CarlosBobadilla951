{
 "cells": [
  {
   "cell_type": "markdown",
   "id": "b1fb2f67",
   "metadata": {},
   "source": [
    "\n",
    "# 📌 1. Probabilidad Clásica (Laplaciana)\n",
    "\n",
    "## 1.1 Axiomas de Kolmogórov\n",
    "\n",
    "Los axiomas de Kolmogórov establecen las bases matemáticas de la teoría de la probabilidad. Son:\n",
    "\n",
    "1. **No negatividad**:  \n",
    "\\(\n",
    "P(A) \\geq 0, \\forall A \\in \\mathcal{F}\n",
    "\\)\n",
    "\n",
    "2. **Normalización**:  \n",
    "\\(\n",
    "P(S) = 1\n",
    "\\)\n",
    "\n",
    "3. **Aditividad finita** (para eventos mutuamente excluyentes):  \n",
    "Si \\(A_1, A_2, \\dots, A_n\\) son disjuntos dos a dos:\n",
    "\\(\n",
    "P\\left(\\bigcup_{i=1}^n A_i\\right) = \\sum_{i=1}^n P(A_i)\n",
    "\\)\n"
   ]
  },
  {
   "cell_type": "markdown",
   "id": "6804c7b4",
   "metadata": {},
   "source": [
    "\n",
    "## 1.2 Teoremas Fundamentales\n",
    "\n",
    "- **Probabilidad del suceso imposible**\n",
    "\\(\n",
    "P(\\emptyset) = 0\n",
    "\\)\n",
    "\n",
    "- **Probabilidad del complemento**\n",
    "\\(\n",
    "P(A^c) = 1 - P(A)\n",
    "\\)\n",
    "\n",
    "- **Aditividad para dos eventos**\n",
    "\\(\n",
    "P(A \\cup B) = P(A) + P(B) - P(A \\cap B)\n",
    "\\)\n"
   ]
  },
  {
   "cell_type": "code",
   "execution_count": null,
   "id": "76a812cc",
   "metadata": {},
   "outputs": [],
   "source": [
    "\n",
    "# Espacio muestral: lanzar un dado\n",
    "S = {1, 2, 3, 4, 5, 6}\n",
    "\n",
    "# Definimos eventos\n",
    "A = {2, 4, 6}\n",
    "B = {1, 2, 3}\n",
    "\n",
    "P_A = len(A) / len(S)\n",
    "P_B = len(B) / len(S)\n",
    "P_A_union_B = len(A.union(B)) / len(S)\n",
    "P_A_inter_B = len(A.intersection(B)) / len(S)\n",
    "\n",
    "print(f\"P(A) = {P_A}\")\n",
    "print(f\"P(B) = {P_B}\")\n",
    "print(f\"P(A ∪ B) = {P_A_union_B}\")\n",
    "print(f\"P(A ∩ B) = {P_A_inter_B}\")\n",
    "print(f\"Comprobando fórmula de aditividad: {P_A + P_B - P_A_inter_B}\")\n"
   ]
  },
  {
   "cell_type": "markdown",
   "id": "db1a3fc8",
   "metadata": {},
   "source": [
    "\n",
    "# 📌 2. Probabilidad Frecuentista\n",
    "\n",
    "## 2.1 Fundamento Teórico\n",
    "\n",
    "La probabilidad como límite de la frecuencia relativa de un suceso al repetir un experimento un gran número de veces.\n",
    "\n",
    "\\(\n",
    "P(A) = \\lim_{n \\to \\infty} \\frac{N(A)}{n}\n",
    "\\)\n"
   ]
  },
  {
   "cell_type": "markdown",
   "id": "5cc19fc6",
   "metadata": {},
   "source": [
    "\n",
    "## 2.2 Ley de los Grandes Números\n",
    "\n",
    "Cuando el número de repeticiones aumenta, la frecuencia relativa de un evento tiende a estabilizarse en torno a su probabilidad teórica.\n",
    "\n",
    "\\(\n",
    "\\lim_{n \\to \\infty} \\frac{N(A)}{n} = P(A)\n",
    "\\)\n"
   ]
  },
  {
   "cell_type": "code",
   "execution_count": null,
   "id": "d8346c95",
   "metadata": {},
   "outputs": [],
   "source": [
    "\n",
    "import random\n",
    "\n",
    "def lanzar_dado(n):\n",
    "    resultados = [random.randint(1, 6) for _ in range(n)]\n",
    "    frecuencia = resultados.count(6)\n",
    "    return frecuencia / n\n",
    "\n",
    "for n in [10, 100, 1000, 10000]:\n",
    "    print(f\"Probabilidad estimada de sacar un 6 en {n} lanzamientos: {lanzar_dado(n)}\")\n"
   ]
  }
 ],
 "metadata": {},
 "nbformat": 4,
 "nbformat_minor": 5
}
